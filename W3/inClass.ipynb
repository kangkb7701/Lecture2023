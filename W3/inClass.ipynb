{
  "nbformat": 4,
  "nbformat_minor": 0,
  "metadata": {
    "colab": {
      "provenance": [],
      "authorship_tag": "ABX9TyMGT5IhHSVm+5RnzGUo6hDg",
      "include_colab_link": true
    },
    "kernelspec": {
      "name": "python3",
      "display_name": "Python 3"
    },
    "language_info": {
      "name": "python"
    }
  },
  "cells": [
    {
      "cell_type": "markdown",
      "metadata": {
        "id": "view-in-github",
        "colab_type": "text"
      },
      "source": [
        "<a href=\"https://colab.research.google.com/github/kangkb7701/Lecture2023/blob/main/W3/inClass.ipynb\" target=\"_parent\"><img src=\"https://colab.research.google.com/assets/colab-badge.svg\" alt=\"Open In Colab\"/></a>"
      ]
    },
    {
      "cell_type": "code",
      "execution_count": 3,
      "metadata": {
        "id": "9LsrmwI8udsB"
      },
      "outputs": [],
      "source": [
        "from tensorflow.keras.models import Sequential\n",
        "from tensorflow.keras.layers import Dense\n",
        "import numpy as np\n"
      ]
    },
    {
      "cell_type": "code",
      "source": [
        "\n",
        "Data_set = np.loadtxt('https://raw.githubusercontent.com/dhshinEddie/DeepKMOU/main/W3/ThoraricSurgery3.csv', delimiter = \",\")\n",
        "X = Data_set[:,0:16]\n",
        "y = Data_set[:,16]\n"
      ],
      "metadata": {
        "id": "N3F5wnS64o5U"
      },
      "execution_count": 4,
      "outputs": []
    },
    {
      "cell_type": "code",
      "source": [
        "\n",
        "model = Sequential()\n",
        "model.add(Dense(30, input_dim = 16, activation = 'relu'))\n",
        "model.add(Dense(1, activation='sigmoid'))\n"
      ],
      "metadata": {
        "id": "2BAUtOLP4qKh"
      },
      "execution_count": 5,
      "outputs": []
    },
    {
      "cell_type": "code",
      "source": [
        "model.compile(loss='binary_crossentropy', optimizer='adam', metrics=['accuracy'])\n",
        "history = model.fit(X,y, epochs=5,batch_size=16)"
      ],
      "metadata": {
        "colab": {
          "base_uri": "https://localhost:8080/"
        },
        "id": "_rmXsHH54rqq",
        "outputId": "54df3458-4de7-4156-e5e7-1e3725573fc5"
      },
      "execution_count": 8,
      "outputs": [
        {
          "output_type": "stream",
          "name": "stdout",
          "text": [
            "Epoch 1/5\n",
            "30/30 [==============================] - 1s 2ms/step - loss: 3.7221 - accuracy: 0.8511\n",
            "Epoch 2/5\n",
            "30/30 [==============================] - 0s 2ms/step - loss: 2.1966 - accuracy: 0.8511\n",
            "Epoch 3/5\n",
            "30/30 [==============================] - 0s 2ms/step - loss: 0.8509 - accuracy: 0.8404\n",
            "Epoch 4/5\n",
            "30/30 [==============================] - 0s 3ms/step - loss: 0.4398 - accuracy: 0.8362\n",
            "Epoch 5/5\n",
            "30/30 [==============================] - 0s 3ms/step - loss: 0.4239 - accuracy: 0.8404\n"
          ]
        }
      ]
    }
  ]
}